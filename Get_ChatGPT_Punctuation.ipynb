{
 "cells": [
  {
   "cell_type": "markdown",
   "id": "4827f0bd-0556-47e8-b671-f873d06e072a",
   "metadata": {},
   "source": [
    "# Get_ChatGPT_Punctuation.ipynb\n",
    "This notebook:\n",
    "* Calls the OpenAI API\n",
    "* Reads all 10 of the input ground truth transcripts\n",
    "    * Punctuates these transcripts for the max, min, and none cases\n",
    "    * Writes the outputs to the correct directories"
   ]
  },
  {
   "cell_type": "code",
   "execution_count": 1,
   "id": "4eb0d54f-b896-4f52-8b68-7c9e89f424d4",
   "metadata": {},
   "outputs": [
    {
     "name": "stderr",
     "output_type": "stream",
     "text": [
      "100%|███████████████████████████████████████████████████████████████████████████████████████████████████████████████████████████████████████████████████████████████████████| 10/10 [08:38<00:00, 51.84s/it]\n"
     ]
    }
   ],
   "source": [
    "import utils_general\n",
    "from tqdm import tqdm\n",
    "\n",
    "# set up OpenAI\n",
    "from openai import OpenAI\n",
    "client = OpenAI(api_key=\"\")  # use your own API key here, obtain one from OpenAI\n",
    "\n",
    "# create and set up dirs\n",
    "max_dir = \"./annotations/GroundTruth-max\"\n",
    "neutral_dir = \"./annotations/GroundTruth-neutral\"\n",
    "min_dir = \"./annotations/GroundTruth-min\"\n",
    "utils_general.just_create_this_dir(max_dir)\n",
    "utils_general.just_create_this_dir(neutral_dir)\n",
    "utils_general.just_create_this_dir(min_dir)\n",
    "\n",
    "# iterate through the 10 files\n",
    "for f in tqdm(range(1,11)):\n",
    "    \n",
    "    # read in the text\n",
    "    text = utils_general.read_file(f\"./annotations/GroundTruth/{f}.txt\")\n",
    "\n",
    "    # insert text into prompts\n",
    "    max_punctuation = f\"\"\"Add maximal punctuation to the following text, do not remove any tokens, do not add \"...\" and keep the text in a single paragraph: {text}\"\"\"\n",
    "    neutral_punctuation = f\"\"\"Add punctuation to the following text, do not remove any tokens, do not add \"...\" and keep the text in a single paragraph: {text}\"\"\"\n",
    "    min_punctuation = f\"\"\"Add minimal punctuation to the following text, do not remove any tokens, do not add \"...\" and keep the text in a single paragraph: {text}\"\"\"\n",
    "\n",
    "    # send to ChatGPT for response\n",
    "    for p in [max_punctuation, neutral_punctuation, min_punctuation]:\n",
    "        response = client.chat.completions.create(\n",
    "          model=\"gpt-4-0125-preview\",\n",
    "          messages=[\n",
    "            {\"role\": \"user\", \"content\": p}\n",
    "          ]\n",
    "        )\n",
    "        \n",
    "        # print(response.choices[0].message.content)\n",
    "        \n",
    "        # write repsonse to file\n",
    "        if p == max_punctuation:\n",
    "            utils_general.write_file(f\"{f}.txt\", max_dir, response.choices[0].message.content)\n",
    "        elif p == neutral_punctuation:\n",
    "            utils_general.write_file(f\"{f}.txt\", neutral_dir, response.choices[0].message.content)\n",
    "        elif p == min_punctuation:\n",
    "            utils_general.write_file(f\"{f}.txt\", min_dir, response.choices[0].message.content)\n",
    "    "
   ]
  },
  {
   "cell_type": "code",
   "execution_count": null,
   "id": "dff317b3-bba9-4986-b8b5-b6fd3af0346e",
   "metadata": {},
   "outputs": [],
   "source": []
  },
  {
   "cell_type": "code",
   "execution_count": null,
   "id": "6b43cc9c-67e5-4653-af1d-d13dd21d359f",
   "metadata": {},
   "outputs": [],
   "source": []
  }
 ],
 "metadata": {
  "kernelspec": {
   "display_name": "Python [conda env:chatgpt]",
   "language": "python",
   "name": "conda-env-chatgpt-py"
  },
  "language_info": {
   "codemirror_mode": {
    "name": "ipython",
    "version": 3
   },
   "file_extension": ".py",
   "mimetype": "text/x-python",
   "name": "python",
   "nbconvert_exporter": "python",
   "pygments_lexer": "ipython3",
   "version": "3.9.18"
  }
 },
 "nbformat": 4,
 "nbformat_minor": 5
}
